{
 "cells": [
  {
   "cell_type": "markdown",
   "metadata": {},
   "source": [
    "$ $\n",
    "#  Ejercicio 2.12 - Aproximacion de $\\pi$  por series infinitas"
   ]
  },
  {
   "cell_type": "markdown",
   "metadata": {},
   "source": [
    "# --------------------------------------------------------------------------------------------------------------------"
   ]
  },
  {
   "cell_type": "markdown",
   "metadata": {},
   "source": [
    "### sabemos que tan (pi / 4) = 1. Ahora podemos usar la función de tangente inversa, arctan (x), para calcular arctan (1) = pi / 4. Y afortunadamente, tenemos una fórmula simple y fácil para arctan (x). Este método también se conoce como la serie Gregory-Leibniz o la serie Madhava-Gregory, que lleva el nombre de Gottfried Leibniz (1646), James Gregory (1638) y Madhava de Sangamagrama (1340)."
   ]
  },
  {
   "cell_type": "markdown",
   "metadata": {},
   "source": [
    "$ $\n",
    "# $arctan(x) = x - \\frac{x^{3}}{3} + \\frac{x^{5}}{5} - \\frac{x^{7}}{7} ... =  \\sum_{n=0}^{\\infty }\\frac{(-1)^{n}x^{2n+1}}{2n+1} $"
   ]
  },
  {
   "cell_type": "markdown",
   "metadata": {},
   "source": [
    "### Podemos establecer x = 1 y dejar que se ejecute el siguiente código."
   ]
  },
  {
   "cell_type": "code",
   "execution_count": 2,
   "metadata": {},
   "outputs": [
    {
     "name": "stdout",
     "output_type": "stream",
     "text": [
      "--------leibniz--------\n",
      "Duracion de compilacion:  5.622813940048218\n",
      "Valor estimado: 3.1415925535897915\n",
      "Valor actual:   3.141592653589793\n",
      "---------machin--------\n",
      "Valor estimado: 3.1415926526153086\n",
      "Valor actual: 3.141592653589793\n"
     ]
    }
   ],
   "source": [
    "import math\n",
    "import time\n",
    "\n",
    "def gregory_leibinz():\n",
    "    pi = 0\n",
    "    start = time.time()\n",
    "    for x in range(0, 10000000):#1000000000\n",
    "        numerador = math.pow(-1, x) * math.pow(1, 2*x+1)\n",
    "        denominador = 2*x + 1\n",
    "        pi += numerador/denominador\n",
    "    end = time.time()\n",
    "    pi = pi * 4\n",
    "    print('Duracion de compilacion: ', end - start)\n",
    "    print(\"Valor estimado: \" + str(pi))\n",
    "    print(\"Valor actual:   \" + str(math.pi))\n",
    "\n",
    "def machin():\n",
    "    num_iteraciones = 6\n",
    "    arc_tan_1_239 = arc_tan(1/239, num_iteraciones)\n",
    "    arc_tan_1_5 = arc_tan(1/5, num_iteraciones)\n",
    "    pi = 4 * (4*arc_tan_1_5 - arc_tan_1_239)\n",
    "    print(\"Valor estimado: \" + str(pi))\n",
    "    print(\"Valor actual: \" + str(math.pi))\n",
    "\n",
    "\n",
    "def arc_tan(x, iteraciones):\n",
    "    arc_tan_x = 0\n",
    "    for z in range(0, iteraciones):\n",
    "        numerador = math.pow(-1, z) * math.pow(x, 2 * z + 1)\n",
    "        denominador = 2 * z + 1\n",
    "        arc_tan_x += numerador / denominador\n",
    "    return arc_tan_x\n",
    "\n",
    "if __name__ == \"__main__\":\n",
    "    print('--------leibniz--------')\n",
    "    gregory_leibinz()\n",
    "    print('---------machin--------')\n",
    "    machin()"
   ]
  },
  {
   "cell_type": "markdown",
   "metadata": {},
   "source": [
    "### millones de iteraciones, obtenemos un dígito más que con el método de integración."
   ]
  },
  {
   "cell_type": "markdown",
   "metadata": {},
   "source": [
    "| numero de iteraciones | valor estimado (incluye cifras significativas) |\n",
    "|-----------------------|------------------------------------------------|\n",
    "| 10.000.000 (10m)      | 3.1415925                                      |\n",
    "| 100.000.000 (100m)    | 3.14159264                                     |\n",
    "| 1000.000.000 (1b)     | 3.141592652                                    |"
   ]
  },
  {
   "cell_type": "markdown",
   "metadata": {},
   "source": [
    "Podemos continuar con este método con algunas mejoras y obtener resultados drásticamente mejores. Una mejora proviene de John Machin (1706), quien desarrolló la siguiente fórmula. "
   ]
  },
  {
   "cell_type": "markdown",
   "metadata": {},
   "source": [
    "$ $\n",
    "# $\\frac{\\pi}{4} = 4\\cdot arctan\\frac{1}{5} - arctan\\frac{1}{239}$"
   ]
  },
  {
   "cell_type": "markdown",
   "metadata": {},
   "source": [
    "Los resultados están a continuación. Asegúrese de anotar el número de iteraciones. Con 10 iteraciones, estamos estimando tan bien como arriba. El primer método de requirió mil millones de iteraciones para hacer lo que hizo la fórmula de Machin en 3."
   ]
  },
  {
   "cell_type": "markdown",
   "metadata": {},
   "source": [
    "| numero de iteraciones | valor estimado (incluye cifras significativas) |\n",
    "|-----------------------|------------------------------------------------|\n",
    "| 3                     | 3.1416                                         |\n",
    "| 6                     | 3.141592652                                    |\n",
    "| 10                    | 3.141592654                                    |"
   ]
  }
 ],
 "metadata": {
  "kernelspec": {
   "display_name": "Python 3",
   "language": "python",
   "name": "python3"
  },
  "language_info": {
   "codemirror_mode": {
    "name": "ipython",
    "version": 3
   },
   "file_extension": ".py",
   "mimetype": "text/x-python",
   "name": "python",
   "nbconvert_exporter": "python",
   "pygments_lexer": "ipython3",
   "version": "3.8.5"
  }
 },
 "nbformat": 4,
 "nbformat_minor": 4
}
